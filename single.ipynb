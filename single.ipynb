{
 "cells": [
  {
   "cell_type": "code",
   "execution_count": null,
   "id": "a677a52f",
   "metadata": {},
   "outputs": [],
   "source": [
    "from ultralytics import YOLO\n",
    "from utils.unet import UNET\n",
    "from utils.sba6pm import Vertebra as SBA\n",
    "\n",
    "detectModule = YOLO(\"models/detect/weights.pt\")\n",
    "segmentModule = UNET(\"models/segment/aWtrA5sC++.pt\", \"cuda:0\")\n",
    "measureModule = SBA"
   ]
  },
  {
   "cell_type": "code",
   "execution_count": null,
   "id": "f22ecc22",
   "metadata": {},
   "outputs": [],
   "source": [
    "import torch, cv2\n",
    "import numpy as np\n",
    "import importlib\n",
    "from utils import system, smartdisplay\n",
    "importlib.reload(system)\n",
    "system = system.system(detectModule, segmentModule, measureModule, \"cuda:0\")\n"
   ]
  },
  {
   "cell_type": "code",
   "execution_count": 1,
   "id": "a8b9130f",
   "metadata": {},
   "outputs": [],
   "source": [
    "from utils import dicom\n",
    "dicom = dicom.DICOM()\n",
    "dicom.process(\"./image/27JJYP.dcm\")"
   ]
  },
  {
   "cell_type": "code",
   "execution_count": null,
   "id": "4fd9284e",
   "metadata": {},
   "outputs": [],
   "source": [
    "\n",
    "system.assess(dicom.path_save, visualise=True)\n",
    "smartdisplay.display([system.fracture], figsize=(20,10))"
   ]
  }
 ],
 "metadata": {
  "kernelspec": {
   "display_name": "Python 3 (ipykernel)",
   "language": "python",
   "name": "python3"
  },
  "language_info": {
   "codemirror_mode": {
    "name": "ipython",
    "version": 3
   },
   "file_extension": ".py",
   "mimetype": "text/x-python",
   "name": "python",
   "nbconvert_exporter": "python",
   "pygments_lexer": "ipython3",
   "version": "3.12.1"
  }
 },
 "nbformat": 4,
 "nbformat_minor": 5
}
