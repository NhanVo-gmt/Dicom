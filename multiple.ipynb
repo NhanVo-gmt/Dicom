{
 "cells": [
  {
   "cell_type": "code",
   "execution_count": null,
   "id": "a63da614",
   "metadata": {},
   "outputs": [],
   "source": [
    "from ultralytics import YOLO\n",
    "from utils.unet import UNET\n",
    "from utils.sba6pm import Vertebra as SBA\n",
    "\n",
    "detectModule = YOLO(\"models/detect/weights.pt\")\n",
    "segmentModule = UNET(\"models/segment/aWtrA5sC++.pt\", \"cuda:0\")\n",
    "measureModule = SBA"
   ]
  },
  {
   "cell_type": "code",
   "execution_count": null,
   "id": "1c57fafe",
   "metadata": {},
   "outputs": [],
   "source": [
    "import torch, cv2\n",
    "import numpy as np\n",
    "import importlib\n",
    "from utils import system, smartdisplay\n",
    "importlib.reload(system)\n",
    "system = system.system(detectModule, segmentModule, measureModule, \"cuda:0\")"
   ]
  },
  {
   "cell_type": "code",
   "execution_count": 4,
   "id": "7a5c5d1c",
   "metadata": {},
   "outputs": [
    {
     "name": "stdout",
     "output_type": "stream",
     "text": [
      "['./image/27JJYP.png', './image/sample.png']\n"
     ]
    }
   ],
   "source": [
    "from utils import dicom\n",
    "\n",
    "filePathList = [\"./image/27JJYP.dcm\", \"./image/sample.dcm\"]\n",
    "imagePathList = []\n",
    "dicom = dicom.DICOM()\n",
    "\n",
    "for filePath in filePathList:\n",
    "    dicom.process(filePath)\n",
    "    imagePathList.append(dicom.path_save)\n",
    "\n",
    "print(imagePathList)\n"
   ]
  },
  {
   "cell_type": "code",
   "execution_count": null,
   "id": "b1d8006d",
   "metadata": {},
   "outputs": [],
   "source": [
    "# filePathList = np.array(\n",
    "#     [\"input/test/0/10.jpg\",\"input/test/0/1002.jpg\",\"input/test/0/1036.jpg\",\"input/test/0/105.jpg\",\"input/test/0/1057.jpg\"\n",
    "#     ,\"input/test/1/1076.jpg\",\"input/test/1/1115.jpg\",\"input/test/1/1240.jpg\",\"input/test/1/1256.jpg\",\"input/test/1/1340.jpg\"])\n",
    "imageList = []\n",
    "for filePath in filePathList:\n",
    "    system.assess(filePath, visualise=True, flip = False)\n",
    "    imageList.append(system.fracture)\n",
    "smartdisplay.display(imageList, figsize=(30,15))"
   ]
  },
  {
   "cell_type": "code",
   "execution_count": null,
   "id": "494cfdc5",
   "metadata": {},
   "outputs": [],
   "source": []
  }
 ],
 "metadata": {
  "kernelspec": {
   "display_name": "Python 3 (ipykernel)",
   "language": "python",
   "name": "python3"
  },
  "language_info": {
   "codemirror_mode": {
    "name": "ipython",
    "version": 3
   },
   "file_extension": ".py",
   "mimetype": "text/x-python",
   "name": "python",
   "nbconvert_exporter": "python",
   "pygments_lexer": "ipython3",
   "version": "3.12.1"
  }
 },
 "nbformat": 4,
 "nbformat_minor": 5
}
