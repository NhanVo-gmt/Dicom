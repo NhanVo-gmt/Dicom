{
 "cells": [
  {
   "cell_type": "code",
   "execution_count": 1,
   "metadata": {},
   "outputs": [],
   "source": [
    "import os\n",
    "import matplotlib.pylab as plt \n",
    "import cv2\n",
    "from utils import dicom, img"
   ]
  },
  {
   "cell_type": "code",
   "execution_count": 2,
   "metadata": {},
   "outputs": [
    {
     "name": "stdout",
     "output_type": "stream",
     "text": [
      "./image/sample.png\n"
     ]
    },
    {
     "ename": "AttributeError",
     "evalue": "'DICOM' object has no attribute 'image'",
     "output_type": "error",
     "traceback": [
      "\u001b[1;31m---------------------------------------------------------------------------\u001b[0m",
      "\u001b[1;31mAttributeError\u001b[0m                            Traceback (most recent call last)",
      "Cell \u001b[1;32mIn[2], line 4\u001b[0m\n\u001b[0;32m      1\u001b[0m dicomreader \u001b[39m=\u001b[39m dicom\u001b[39m.\u001b[39mDICOM(\u001b[39m\"\u001b[39m\u001b[39m./image/sample.dcm\u001b[39m\u001b[39m\"\u001b[39m)\n\u001b[0;32m      2\u001b[0m \u001b[39m# dicomreader.process()\u001b[39;00m\n\u001b[0;32m      3\u001b[0m \u001b[39m# print(dicomreader.dcm.pixel_array.max())\u001b[39;00m\n\u001b[1;32m----> 4\u001b[0m plt\u001b[39m.\u001b[39mimshow(dicomreader\u001b[39m.\u001b[39;49mimage, cmap\u001b[39m=\u001b[39m\u001b[39m'\u001b[39m\u001b[39mgray\u001b[39m\u001b[39m'\u001b[39m)\n",
      "\u001b[1;31mAttributeError\u001b[0m: 'DICOM' object has no attribute 'image'"
     ]
    }
   ],
   "source": [
    "dicomreader = dicom.DICOM(\"./image/sample.dcm\")\n",
    "dicomreader.process()\n",
    "# print(dicomreader.dcm.pixel_array.max())\n",
    "plt.imshow(dicomreader.image, cmap='gray')"
   ]
  }
 ],
 "metadata": {
  "kernelspec": {
   "display_name": "Python 3",
   "language": "python",
   "name": "python3"
  },
  "language_info": {
   "codemirror_mode": {
    "name": "ipython",
    "version": 3
   },
   "file_extension": ".py",
   "mimetype": "text/x-python",
   "name": "python",
   "nbconvert_exporter": "python",
   "pygments_lexer": "ipython3",
   "version": "3.12.1"
  },
  "orig_nbformat": 4
 },
 "nbformat": 4,
 "nbformat_minor": 2
}
